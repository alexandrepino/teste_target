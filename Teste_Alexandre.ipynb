{
 "cells": [
  {
   "cell_type": "markdown",
   "id": "359016bf",
   "metadata": {},
   "source": [
    "2) Dado a sequência de Fibonacci, onde se inicia por 0 e 1 e o próximo valor sempre será a soma dos 2 valores anteriores (exemplo: 0, 1, 1, 2, 3, 5, 8, 13, 21, 34...), escreva um programa na linguagem que desejar onde, informado um número, ele calcule a sequência de Fibonacci e retorne uma mensagem avisando se o número informado pertence ou não a sequência."
   ]
  },
  {
   "cell_type": "code",
   "execution_count": 5,
   "id": "0a648ba5",
   "metadata": {},
   "outputs": [
    {
     "name": "stdout",
     "output_type": "stream",
     "text": [
      "Digite um número:9\n",
      "O número 9 não pertence à sequência de Fibonacci.\n"
     ]
    }
   ],
   "source": [
    "\n",
    "numero = int(input('Digite um número:'))\n",
    "\n",
    "\n",
    "fibonacci = [0, 1]\n",
    "\n",
    "\n",
    "while fibonacci[-1] < numero:\n",
    "    fibonacci.append(fibonacci[-1] + fibonacci[-2])\n",
    "\n",
    "if numero in fibonacci:\n",
    "    print(f\"O número {numero} pertence à sequência de Fibonacci.\")\n",
    "else:\n",
    "    print(f\"O número {numero} não pertence à sequência de Fibonacci.\")"
   ]
  },
  {
   "cell_type": "markdown",
   "id": "e917ae0e",
   "metadata": {},
   "source": [
    "3) Dado um vetor que guarda o valor de faturamento diário de uma distribuidora, faça um programa, na linguagem que desejar, que calcule e retorne:\n",
    "• O menor valor de faturamento ocorrido em um dia do mês;\n",
    "• O maior valor de faturamento ocorrido em um dia do mês;\n",
    "• Número de dias no mês em que o valor de faturamento diário foi superior à média mensal."
   ]
  },
  {
   "cell_type": "code",
   "execution_count": 3,
   "id": "3ac3ede0",
   "metadata": {},
   "outputs": [
    {
     "name": "stdout",
     "output_type": "stream",
     "text": [
      "Menor valor de faturamento diário: R$ 500.00\n",
      "Maior valor de faturamento diário: R$ 3000.00\n",
      "Número de dias com faturamento acima da média mensal: 13\n"
     ]
    }
   ],
   "source": [
    "#Faturamento_diario\n",
    "\n",
    "# vetor com os valores de faturamento diário\n",
    "faturamento_diario = [500, 600, 700, 800, 900, 1000, 1100, 1200, 1300, 1400, 1500, 1600, 1700, 1800, 1900, 2000, 2100, 2200, 2300, 2400, 2500, 2600, 2700, 2800, 2900, 3000]\n",
    "\n",
    "# calculando o menor e o maior valor de faturamento\n",
    "menor_faturamento = min(faturamento_diario)\n",
    "maior_faturamento = max(faturamento_diario)\n",
    "\n",
    "# calculando a média mensal de faturamento\n",
    "media_mensal = sum(faturamento_diario) / len(faturamento_diario)\n",
    "\n",
    "# contando o número de dias em que o faturamento foi superior à média mensal\n",
    "dias_acima_media = 0\n",
    "for faturamento in faturamento_diario:\n",
    "    if faturamento > media_mensal:\n",
    "        dias_acima_media += 1\n",
    "\n",
    "# exibindo os resultados\n",
    "print(f\"Menor valor de faturamento diário: R$ {menor_faturamento:.2f}\")\n",
    "print(f\"Maior valor de faturamento diário: R$ {maior_faturamento:.2f}\")\n",
    "print(f\"Número de dias com faturamento acima da média mensal: {dias_acima_media}\")"
   ]
  },
  {
   "cell_type": "markdown",
   "id": "410a8afb",
   "metadata": {},
   "source": [
    "5) Dado o valor de faturamento mensal de uma distribuidora, detalhado por estado:\n",
    "\n",
    "SP – R$67.836,43\n",
    "RJ – R$36.678,66\n",
    "MG – R$29.229,88\n",
    "ES – R$27.165,48\n",
    "Outros – R$19.849,53\n",
    "\n",
    "Escreva um programa na linguagem que desejar onde calcule o percentual de representação que cada estado teve dentro do valor total mensal da distribuidora.\n",
    " "
   ]
  },
  {
   "cell_type": "code",
   "execution_count": 4,
   "id": "426e4e2f",
   "metadata": {},
   "outputs": [
    {
     "name": "stdout",
     "output_type": "stream",
     "text": [
      "SP: 37.53%\n",
      "RJ: 20.29%\n",
      "MG: 16.17%\n",
      "ES: 15.03%\n",
      "Outros: 10.98%\n"
     ]
    }
   ],
   "source": [
    "# dicionário com os valores de faturamento mensal por estado\n",
    "faturamento_mensal = {\n",
    "    'SP': 67836.43,\n",
    "    'RJ': 36678.66,\n",
    "    'MG': 29229.88,\n",
    "    'ES': 27165.48,\n",
    "    'Outros': 19849.53\n",
    "}\n",
    "\n",
    "# calculando o valor total mensal de faturamento da distribuidora\n",
    "total_mensal = sum(faturamento_mensal.values())\n",
    "\n",
    "# calculando o percentual de representação de cada estado\n",
    "for estado, faturamento in faturamento_mensal.items():\n",
    "    percentual = faturamento / total_mensal * 100\n",
    "    print(f\"{estado}: {percentual:.2f}%\")\n"
   ]
  },
  {
   "cell_type": "markdown",
   "id": "528a29af",
   "metadata": {},
   "source": [
    "5) Escreva um programa que inverta os caracteres de um string.\n",
    "\n",
    "IMPORTANTE:\n",
    "a) Essa string pode ser informada através de qualquer entrada de sua preferência ou pode ser previamente definida no código;\n",
    "b) Evite usar funções prontas, como, por exemplo, reverse;"
   ]
  },
  {
   "cell_type": "code",
   "execution_count": 6,
   "id": "e8b877e0",
   "metadata": {},
   "outputs": [
    {
     "name": "stdout",
     "output_type": "stream",
     "text": [
      "!odnum ,álO\n"
     ]
    }
   ],
   "source": [
    "string = \"Olá, mundo!\"\n",
    "\n",
    "string_invertida = \"\"\n",
    "\n",
    "for i in range(len(string)-1, -1, -1):\n",
    "    string_invertida += string[i]\n",
    "\n",
    "print(string_invertida)"
   ]
  }
 ],
 "metadata": {
  "kernelspec": {
   "display_name": "Python 3 (ipykernel)",
   "language": "python",
   "name": "python3"
  },
  "language_info": {
   "codemirror_mode": {
    "name": "ipython",
    "version": 3
   },
   "file_extension": ".py",
   "mimetype": "text/x-python",
   "name": "python",
   "nbconvert_exporter": "python",
   "pygments_lexer": "ipython3",
   "version": "3.8.10"
  }
 },
 "nbformat": 4,
 "nbformat_minor": 5
}
